{
 "cells": [
  {
   "cell_type": "markdown",
   "metadata": {},
   "source": [
    "## Lights Out Problem Solution"
   ]
  },
  {
   "cell_type": "markdown",
   "metadata": {},
   "source": [
    "### Importing the required modules"
   ]
  },
  {
   "cell_type": "markdown",
   "metadata": {},
   "source": [
    "Imporitng all the modules and libraries"
   ]
  },
  {
   "cell_type": "code",
   "execution_count": 1,
   "metadata": {
    "scrolled": false
   },
   "outputs": [],
   "source": [
    "from qiskit import QuantumCircuit, ClassicalRegister, QuantumRegister\n",
    "from qiskit import IBMQ, execute\n",
    "from qiskit import *\n",
    "from qiskit.visualization import plot_histogram\n",
    "import time\n",
    "\n",
    "# warning import is not necessary for program execution. Its just to supress the unwanted warning thrown by the \n",
    "# qiskit backend.\n",
    "import warnings\n",
    "\n",
    "warnings.filterwarnings('ignore')"
   ]
  },
  {
   "cell_type": "markdown",
   "metadata": {},
   "source": [
    "### Setting the backend for execution"
   ]
  },
  {
   "cell_type": "markdown",
   "metadata": {},
   "source": [
    "Below cell sets the backend for the program execution.\n",
    "Apart from the qasm_simulator, other devices are also available which include various Quantum Devices. But the maximum capacity of a Quantum Computer is 15 Qubits which is much less than what is required. Thus selecting the simulator for our purpose which has a maximum of 32 qubit computational limit for general purpose use. "
   ]
  },
  {
   "cell_type": "code",
   "execution_count": 2,
   "metadata": {
    "scrolled": true
   },
   "outputs": [],
   "source": [
    "# Enter your IBMQ account ID below for the purpose of execution and then uncomment the statement\n",
    "\n",
    "# IBMQ.save_account('',overwrite=True) \n",
    "provider = IBMQ.load_account()\n",
    "backend = provider.get_backend('ibmq_qasm_simulator')"
   ]
  },
  {
   "cell_type": "markdown",
   "metadata": {},
   "source": [
    "### Initializing the qubits and classical bits "
   ]
  },
  {
   "cell_type": "markdown",
   "metadata": {},
   "source": [
    "Initializing all the required qubits and classical bits. In total 26 quantum bits and 9 classical bits are required.\n",
    "\n",
    "Lights arrangement on the board at the start of the problem\n",
    "Given as:\n",
    "\n",
    "[1 0 1        \n",
    " 0 1 0        \n",
    " 1 0 1]       \n",
    "\n",
    "The above light arrangement can be changed as per the initial lights condition on the board."
   ]
  },
  {
   "cell_type": "code",
   "execution_count": 3,
   "metadata": {
    "scrolled": false
   },
   "outputs": [],
   "source": [
    "tile = QuantumRegister(9,name='tile')\n",
    "flip = QuantumRegister(9,name='flip')\n",
    "oracle = QuantumRegister(1,name='oracle')\n",
    "auxiliary = QuantumRegister(7,name='auxiliary')\n",
    "result = ClassicalRegister(9,name='result')\n",
    "qc = QuantumCircuit(tile, flip, oracle, auxiliary, result)\n",
    "\n",
    "\n",
    "# (0) | (1) | (2)\n",
    "# - - - - - - - -  \n",
    "# (3) | (4) | (5)\n",
    "# - - - - - - - - \n",
    "# (6) | (7) | (8)\n",
    "\n",
    "initial_lights = [1, 0, 1, 0, 1, 0, 1, 0, 1]"
   ]
  },
  {
   "cell_type": "markdown",
   "metadata": {},
   "source": [
    "### Declaring and defining the Tile flipping circuit"
   ]
  },
  {
   "cell_type": "markdown",
   "metadata": {},
   "source": [
    "It is a circuit required for oracle. This is to calculate the state of light on board after pressing each tile.\n",
    "Example:\n",
    "After pressing [0], then the tile itself along with its neighbouring tile will get flipped.\n",
    "Thus, after pressing [0] tile, the [1] and [3] tiles get flipped\n",
    "This circuit is then converted into a qiskit gate. This gate is then used in the algorithm by the name 'Flip_tile'. "
   ]
  },
  {
   "cell_type": "code",
   "execution_count": 4,
   "metadata": {
    "scrolled": false
   },
   "outputs": [],
   "source": [
    "Tile = QuantumRegister(9)\n",
    "Flip = QuantumRegister(9)\n",
    "circuit = QuantumCircuit(Tile,Flip,name='Flip Tile')    \n",
    "#For tile 0,0\n",
    "circuit.cx(Flip[0], Tile[0]) \n",
    "circuit.cx(Flip[0], Tile[1])\n",
    "circuit.cx(Flip[0], Tile[3])\n",
    "#----------------------------------------\n",
    "#For tile 0,1\n",
    "circuit.cx(Flip[1], Tile[0])\n",
    "circuit.cx(Flip[1], Tile[1])\n",
    "circuit.cx(Flip[1], Tile[2])\n",
    "circuit.cx(Flip[1], Tile[4])\n",
    "#----------------------------------------\n",
    "#For tile 0,2\n",
    "circuit.cx(Flip[2], Tile[1])\n",
    "circuit.cx(Flip[2], Tile[2])\n",
    "circuit.cx(Flip[2], Tile[5])\n",
    "#----------------------------------------\n",
    "#For tile 1,0\n",
    "circuit.cx(Flip[3], Tile[0])\n",
    "circuit.cx(Flip[3], Tile[3])\n",
    "circuit.cx(Flip[3], Tile[4])\n",
    "circuit.cx(Flip[3], Tile[6])\n",
    "#----------------------------------------\n",
    "#For tile 1,1\n",
    "circuit.cx(Flip[4], Tile[1])\n",
    "circuit.cx(Flip[4], Tile[3])\n",
    "circuit.cx(Flip[4], Tile[4])\n",
    "circuit.cx(Flip[4], Tile[5])\n",
    "circuit.cx(Flip[4], Tile[7])\n",
    "#----------------------------------------\n",
    "#For tile 1,2\n",
    "circuit.cx(Flip[5], Tile[2])\n",
    "circuit.cx(Flip[5], Tile[4])\n",
    "circuit.cx(Flip[5], Tile[5])\n",
    "circuit.cx(Flip[5], Tile[8])\n",
    "#----------------------------------------\n",
    "#For tile 2,0\n",
    "circuit.cx(Flip[6], Tile[3])\n",
    "circuit.cx(Flip[6], Tile[6])\n",
    "circuit.cx(Flip[6], Tile[7])\n",
    "#----------------------------------------\n",
    "#For tile 2,1\n",
    "circuit.cx(Flip[7], Tile[4])\n",
    "circuit.cx(Flip[7], Tile[6])\n",
    "circuit.cx(Flip[7], Tile[7])\n",
    "circuit.cx(Flip[7], Tile[8])\n",
    "#----------------------------------------\n",
    "#For tile 2,2\n",
    "circuit.cx(Flip[8], Tile[5])\n",
    "circuit.cx(Flip[8], Tile[7])\n",
    "circuit.cx(Flip[8], Tile[8])\n",
    "#circuit.draw()\n",
    "Flip_tile = circuit.to_gate()"
   ]
  },
  {
   "cell_type": "markdown",
   "metadata": {},
   "source": [
    "### Defining the Oracle function circuit"
   ]
  },
  {
   "cell_type": "markdown",
   "metadata": {},
   "source": [
    "The below cell defines the Oracle circuit and then converts it into a qiskit gate. This gate is then used in the actual algorithm by the name 'Oracle_gate'."
   ]
  },
  {
   "cell_type": "code",
   "execution_count": 5,
   "metadata": {},
   "outputs": [],
   "source": [
    "Tile = QuantumRegister(9)\n",
    "Flip = QuantumRegister(9)\n",
    "OracleQubit = QuantumRegister(1)\n",
    "Auxiliary = QuantumRegister(7)\n",
    "Oraclecircuit = QuantumCircuit(tile, flip, oracle, auxiliary,name='Oracle Function')\n",
    "\n",
    "Oraclecircuit.append(Flip_tile,[0,1,2,3,4,5,6,7,8,9,10,11,12,13,14,15,16,17])\n",
    "Oraclecircuit.x(tile[0:9])\n",
    "Oraclecircuit.mct(tile[0:9], oracle[0], auxiliary[0:7], mode='basic')\n",
    "Oraclecircuit.x(tile[0:9])\n",
    "Oraclecircuit.append(Flip_tile,[0,1,2,3,4,5,6,7,8,9,10,11,12,13,14,15,16,17])\n",
    "\n",
    "Oracle_gate = Oraclecircuit.to_gate()"
   ]
  },
  {
   "cell_type": "markdown",
   "metadata": {},
   "source": [
    "### Defining the Diffusion function circuit"
   ]
  },
  {
   "cell_type": "markdown",
   "metadata": {},
   "source": [
    "The below cell defines the diffusion circuit and then converts it into a qiskit gate. This gate is then used in the actual algorithm by the name 'Diffusion_gate'."
   ]
  },
  {
   "cell_type": "code",
   "execution_count": 6,
   "metadata": {},
   "outputs": [],
   "source": [
    "Flip = QuantumRegister(9)\n",
    "OracleQubit = QuantumRegister(1)\n",
    "Auxiliary = QuantumRegister(7)\n",
    "Diffusioncircuit = QuantumCircuit(Flip, OracleQubit, Auxiliary,name='Diffusion Function')\n",
    "\n",
    "Diffusioncircuit.h(Flip)\n",
    "Diffusioncircuit.x(Flip)\n",
    "Diffusioncircuit.h(Flip[8])\n",
    "Diffusioncircuit.mct(Flip[0:8], Flip[8], Auxiliary[0:7], mode='basic')\n",
    "Diffusioncircuit.h(Flip[8])\n",
    "Diffusioncircuit.x(Flip)\n",
    "Diffusioncircuit.h(Flip)\n",
    "\n",
    "Diffusion_gate = Diffusioncircuit.to_gate()"
   ]
  },
  {
   "cell_type": "markdown",
   "metadata": {},
   "source": [
    "To print the above individual custom gates i.e. Flip_tile, Oracle_gate, Diffuion_gate uncomment the respective lines of code in the below cell"
   ]
  },
  {
   "cell_type": "code",
   "execution_count": 7,
   "metadata": {},
   "outputs": [],
   "source": [
    "# circuit.draw() \n",
    "# Oraclecircuit.draw() \n",
    "# Diffusioncircuit.draw() "
   ]
  },
  {
   "cell_type": "markdown",
   "metadata": {
    "scrolled": true
   },
   "source": [
    "### Steps for the Algorithm  "
   ]
  },
  {
   "cell_type": "markdown",
   "metadata": {},
   "source": [
    "This cell states the actual steps of the algorithm. It also defines the Oracle and diffusion function. later the qubits needsto be reversed so as to alight the order of qubits for output.\n",
    "\n",
    "The quantum circuit can be printed if required just by uncommenting the qc.draw(), before executing the cell. "
   ]
  },
  {
   "cell_type": "code",
   "execution_count": 8,
   "metadata": {
    "scrolled": false
   },
   "outputs": [],
   "source": [
    "counter = 0\n",
    "for i in initial_lights:\n",
    "    if i==1:\n",
    "        qc.x(tile[counter])\n",
    "        counter+=1\n",
    "    else:\n",
    "        counter+=1\n",
    "qc.h(flip[0:9])\n",
    "qc.x(oracle[0])\n",
    "qc.h(oracle[0]) \n",
    "qc.barrier()\n",
    "\n",
    "# The Oracle and Diffusion function is repeated 17 times.\n",
    "for i in range(17):\n",
    "    \n",
    "    #flip_tile(qc,flip,tile)\n",
    "    qc.append(Oracle_gate,[0,1,2,3,4,5,6,7,8,9,10,11,12,13,14,15,16,17,18,19,20,21,22,23,24,25])\n",
    "\n",
    "    # diffusion function \n",
    "    qc.append(Diffusion_gate,[9,10,11,12,13,14,15,16,17,18,19,20,21,22,23,24,25])\n",
    "qc.barrier()\n",
    "\n",
    "# Uncompute Unit\n",
    "qc.h(oracle[0])\n",
    "qc.x(oracle[0])\n",
    "qc.barrier()\n",
    "\n",
    "# Measuremnt \n",
    "qc.measure(flip,result)\n",
    "\n",
    "# Reverse the order fo output to match the Input.\n",
    "qc = qc.reverse_bits()\n",
    "\n",
    "# Drawing the quantum circuit\n",
    "# For drawing the final circuit uncomment the below line\n",
    "# qc.draw() "
   ]
  },
  {
   "cell_type": "markdown",
   "metadata": {
    "scrolled": true
   },
   "source": [
    "### Executing the program on the quantum device"
   ]
  },
  {
   "cell_type": "markdown",
   "metadata": {},
   "source": [
    "Setting up the job for execution on quantum simulator.\n",
    "Transpiler optimization level can be changed to reduce the cost. Currently the level is default i.e. no optimization but \n",
    "it can be changed as per requirement. Allowable range for the optimization_level parameter is 0-3\n",
    "Maximum shots available on qasm_simulator are 8192."
   ]
  },
  {
   "cell_type": "code",
   "execution_count": 9,
   "metadata": {
    "scrolled": false
   },
   "outputs": [
    {
     "name": "stdout",
     "output_type": "stream",
     "text": [
      "4.500035285949707\n"
     ]
    }
   ],
   "source": [
    "start = time.time()\n",
    "job = execute(qc, backend=backend, shots=8192, seed_simulator=1000)#, optimization_level =3)\n",
    "end = time.time()\n",
    "print(end-start)"
   ]
  },
  {
   "cell_type": "markdown",
   "metadata": {},
   "source": [
    "### Result and Visualization"
   ]
  },
  {
   "cell_type": "markdown",
   "metadata": {},
   "source": [
    "Below cell prints all the output states and their counts. Furthermore, it also prints the histogram of the states for visualization purpose. "
   ]
  },
  {
   "cell_type": "code",
   "execution_count": 10,
   "metadata": {
    "scrolled": false
   },
   "outputs": [
    {
     "name": "stdout",
     "output_type": "stream",
     "text": [
      "{'101010101': 1, '110000011': 1, '110110010': 1, '111000011': 1, '111111111': 8188}\n"
     ]
    },
    {
     "data": {
      "image/png": "[encoded data removed]",
      "text/plain": [
       "<Figure size 504x360 with 1 Axes>"
      ]
     },
     "execution_count": 10,
     "metadata": {},
     "output_type": "execute_result"
    }
   ],
   "source": [
    "result = job.result()\n",
    "count = result.get_counts()\n",
    "\n",
    "print(count)\n",
    "\n",
    "# Plotting the histogram for puspose of visuzlization \n",
    "plot_histogram(job.result().get_counts(), color='green', title=\"Histogram\")"
   ]
  }
 ],
 "metadata": {
  "kernelspec": {
   "display_name": "Python 3",
   "language": "python",
   "name": "python3"
  },
  "language_info": {
   "codemirror_mode": {
    "name": "ipython",
    "version": 3
   },
   "file_extension": ".py",
   "mimetype": "text/x-python",
   "name": "python",
   "nbconvert_exporter": "python",
   "pygments_lexer": "ipython3",
   "version": "3.8.2"
  }
 },
 "nbformat": 4,
 "nbformat_minor": 4
}
